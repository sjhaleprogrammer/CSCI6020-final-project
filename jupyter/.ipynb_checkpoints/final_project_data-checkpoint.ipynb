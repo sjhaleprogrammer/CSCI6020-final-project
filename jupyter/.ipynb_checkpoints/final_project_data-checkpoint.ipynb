{
 "cells": [
  {
   "cell_type": "markdown",
   "id": "799189da-0982-4981-bc06-b0635f0e8949",
   "metadata": {},
   "source": [
    "# Data Processing"
   ]
  },
  {
   "cell_type": "markdown",
   "id": "d1b47288-b519-4f88-96ed-bcd4a13a22d7",
   "metadata": {},
   "source": [
    "The focus of this notebook is to handle data processing and create various documented datasets for our models"
   ]
  },
  {
   "cell_type": "markdown",
   "id": "8b5c823b-337f-4504-99a6-7fb7669d4834",
   "metadata": {},
   "source": [
    "### Dataset# 1: (all_states.csv)<br>\n",
    "This dataset is providing data for all states and creating a year feature from the original excel file. "
   ]
  },
  {
   "cell_type": "code",
   "execution_count": 7,
   "id": "606e24df-a3ea-417d-a909-ffed9610dd1a",
   "metadata": {},
   "outputs": [
    {
     "name": "stdout",
     "output_type": "stream",
     "text": [
      "Processed data saved to ../data_processed/all_states/all_states.csv\n"
     ]
    }
   ],
   "source": [
    "def normalize_election_result(value):\n",
    "    \"\"\"\n",
    "    Normalizes the Election Result values to ensure consistency.\n",
    "    Converts 'Republican' to 'R' and 'Democratic' to 'D'.\n",
    "    \"\"\"\n",
    "    if isinstance(value, str):\n",
    "        value = value.strip().lower()  # Remove whitespace and normalize case\n",
    "        if value in ['republican', 'r']:\n",
    "            return 'R'\n",
    "        elif value in ['democratic', 'd']:\n",
    "            return 'D'\n",
    "    return value  # Return the original value if it doesn't match\n",
    "\n",
    "def process_excel_to_csv(input_excel_path, output_csv_path, years_to_process):\n",
    "    \"\"\"\n",
    "    Processes an Excel file with multiple sheets into a single CSV file, adding a 'Year' column and normalizing data.\n",
    "    \n",
    "    Args:\n",
    "    - input_excel_path: Path to the raw Excel file.\n",
    "    - output_csv_path: Path to save the processed CSV file.\n",
    "    - years_to_process: List of sheet names (years) to process.\n",
    "    \"\"\"\n",
    "    # Ensure the output directory exists\n",
    "    output_dir = os.path.dirname(output_csv_path)\n",
    "    os.makedirs(output_dir, exist_ok=True)  # Create the directory if it doesn't exist\n",
    "\n",
    "    # Initialize an empty DataFrame to hold combined data\n",
    "    combined_data = pd.DataFrame()\n",
    "\n",
    "    # Read the Excel file\n",
    "    xls = pd.ExcelFile(input_excel_path)\n",
    "\n",
    "    # Process each sheet\n",
    "    for sheet_name in years_to_process:\n",
    "        if sheet_name in xls.sheet_names:\n",
    "            # Read the sheet into a DataFrame\n",
    "            df = pd.read_excel(xls, sheet_name=sheet_name)\n",
    "            \n",
    "            # Normalize the Election Result column\n",
    "            if 'Election Result' in df.columns:\n",
    "                df['Election Result'] = df['Election Result'].apply(normalize_election_result)\n",
    "            \n",
    "            # Add the 'Year' column\n",
    "            df['Year'] = int(sheet_name)\n",
    "            \n",
    "            # Append to the combined data\n",
    "            combined_data = pd.concat([combined_data, df], ignore_index=True)\n",
    "\n",
    "    # Save the combined data to CSV\n",
    "    combined_data.to_csv(output_csv_path, index=False)\n",
    "    print(f\"Processed data saved to {output_csv_path}\")\n",
    "\n",
    "# Example usage\n",
    "input_excel_path = '../data_raw/raw_data.xlsx'  # Adjust based on your directory structure\n",
    "output_csv_path = '../data_processed/all_states/all_states.csv'  # Correct directory structure\n",
    "years_to_process = ['2024', '2020', '2016', '2012', '2008', '2004', '2000']\n",
    "\n",
    "process_excel_to_csv(input_excel_path, output_csv_path, years_to_process)\n",
    "\n"
   ]
  },
  {
   "cell_type": "code",
   "execution_count": null,
   "id": "de4dd615-b586-49fb-bfad-f8ff6886667a",
   "metadata": {},
   "outputs": [],
   "source": []
  }
 ],
 "metadata": {
  "kernelspec": {
   "display_name": "Python 3 (ipykernel)",
   "language": "python",
   "name": "python3"
  },
  "language_info": {
   "codemirror_mode": {
    "name": "ipython",
    "version": 3
   },
   "file_extension": ".py",
   "mimetype": "text/x-python",
   "name": "python",
   "nbconvert_exporter": "python",
   "pygments_lexer": "ipython3",
   "version": "3.11.9"
  }
 },
 "nbformat": 4,
 "nbformat_minor": 5
}
