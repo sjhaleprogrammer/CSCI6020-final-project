{
 "cells": [
  {
   "cell_type": "code",
   "execution_count": 2,
   "id": "54b0ea05-baa6-4f36-b738-5a1f485e4ff6",
   "metadata": {},
   "outputs": [
    {
     "name": "stdout",
     "output_type": "stream",
     "text": [
      "\n",
      "Testing model: logistic_regression\n",
      "Predicting for California (2024) using logistic_regression...\n",
      "Predicted Election Result: Democratic\n",
      "\n",
      "Predicting for Texas (2024) using logistic_regression...\n",
      "Predicted Election Result: Republican\n",
      "\n",
      "Predicting for Nevada (2024) using logistic_regression...\n",
      "Predicted Election Result: Republican\n",
      "\n",
      "Predicting for Florida (2024) using logistic_regression...\n",
      "Predicted Election Result: Republican\n",
      "\n",
      "\n",
      "Testing model: k_nearest_neighbors\n",
      "Predicting for California (2024) using k_nearest_neighbors...\n",
      "Predicted Election Result: Democratic\n",
      "\n",
      "Predicting for Texas (2024) using k_nearest_neighbors...\n",
      "Predicted Election Result: Republican\n",
      "\n",
      "Predicting for Nevada (2024) using k_nearest_neighbors...\n",
      "Predicted Election Result: Democratic\n",
      "\n",
      "Predicting for Florida (2024) using k_nearest_neighbors...\n",
      "Predicted Election Result: Republican\n",
      "\n",
      "\n",
      "Testing model: decision_tree\n",
      "Predicting for California (2024) using decision_tree...\n",
      "Predicted Election Result: Democratic\n",
      "\n",
      "Predicting for Texas (2024) using decision_tree...\n",
      "Predicted Election Result: Democratic\n",
      "\n",
      "Predicting for Nevada (2024) using decision_tree...\n",
      "Predicted Election Result: Republican\n",
      "\n",
      "Predicting for Florida (2024) using decision_tree...\n",
      "Predicted Election Result: Democratic\n",
      "\n"
     ]
    }
   ],
   "source": [
    "import sys\n",
    "sys.path.append('../python')  # Ensure the python folder is in the module path\n",
    "from inference import predict_election_from_state\n",
    "\n",
    "if __name__ == \"__main__\":\n",
    "    test_models = [\"logistic_regression\", \"k_nearest_neighbors\", \"decision_tree\"]\n",
    "    test_cases = [\n",
    "        {'state': 'California', 'year': 2024},\n",
    "        {'state': 'Texas', 'year': 2024},\n",
    "        {'state': 'Nevada', 'year': 2024},\n",
    "        {'state': 'Florida', 'year': 2024},\n",
    "    ]\n",
    "\n",
    "    for model_name in test_models:\n",
    "        print(f\"\\nTesting model: {model_name}\")\n",
    "        for case in test_cases:\n",
    "            try:\n",
    "                state = case['state']\n",
    "                year = case['year']\n",
    "                print(f\"Predicting for {state} ({year}) using {model_name}...\")\n",
    "                result = predict_election_from_state(model_name, state, year)\n",
    "                print(f\"Predicted Election Result: {result}\\n\")\n",
    "            except Exception as e:\n",
    "                print(f\"Error: {e}\\n\")\n"
   ]
  },
  {
   "cell_type": "code",
   "execution_count": null,
   "id": "c6cb184c-e61a-46a9-b0bb-3a37392a9899",
   "metadata": {},
   "outputs": [],
   "source": []
  }
 ],
 "metadata": {
  "kernelspec": {
   "display_name": "Python 3 (ipykernel)",
   "language": "python",
   "name": "python3"
  },
  "language_info": {
   "codemirror_mode": {
    "name": "ipython",
    "version": 3
   },
   "file_extension": ".py",
   "mimetype": "text/x-python",
   "name": "python",
   "nbconvert_exporter": "python",
   "pygments_lexer": "ipython3",
   "version": "3.11.9"
  }
 },
 "nbformat": 4,
 "nbformat_minor": 5
}
