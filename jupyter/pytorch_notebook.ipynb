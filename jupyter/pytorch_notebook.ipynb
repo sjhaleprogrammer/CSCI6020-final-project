{
 "cells": [
  {
   "cell_type": "code",
   "execution_count": null,
   "id": "189ac2a9-4a54-457b-8623-87f0c17f947c",
   "metadata": {},
   "outputs": [],
   "source": []
  }
 ],
 "metadata": {
  "kernelspec": {
   "display_name": "Python 3 (ipykernel)",
   "language": "python",
   "name": "python3"
  },
  "language_info": {
   "codemirror_mode": {
    "name": "ipython",
    "version": 3
   },
   "file_extension": ".py",
   "mimetype": "text/x-python",
   "name": "python",
   "nbconvert_exporter": "python",
   "pygments_lexer": "ipython3",
   "version": "3.11.9"
  }
 },
 "nbformat": 4,
 "nbformat_minor": 5
}
